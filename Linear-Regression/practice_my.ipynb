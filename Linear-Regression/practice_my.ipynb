{
 "cells": [
  {
   "cell_type": "code",
   "execution_count": 24,
   "metadata": {},
   "outputs": [],
   "source": [
    "import pandas as pd\n",
    "import numpy as np\n",
    "import matplotlib.pyplot as plt\n",
    "import seaborn as sns\n",
    "%matplotlib inline"
   ]
  },
  {
   "cell_type": "code",
   "execution_count": 3,
   "metadata": {},
   "outputs": [],
   "source": [
    "df=pd.read_csv('../../../../Project Weather Prediction/testset.csv')"
   ]
  },
  {
   "cell_type": "code",
   "execution_count": 5,
   "metadata": {},
   "outputs": [
    {
     "data": {
      "text/html": [
       "<div>\n",
       "<style scoped>\n",
       "    .dataframe tbody tr th:only-of-type {\n",
       "        vertical-align: middle;\n",
       "    }\n",
       "\n",
       "    .dataframe tbody tr th {\n",
       "        vertical-align: top;\n",
       "    }\n",
       "\n",
       "    .dataframe thead th {\n",
       "        text-align: right;\n",
       "    }\n",
       "</style>\n",
       "<table border=\"1\" class=\"dataframe\">\n",
       "  <thead>\n",
       "    <tr style=\"text-align: right;\">\n",
       "      <th></th>\n",
       "      <th>datetime_utc</th>\n",
       "      <th>_conds</th>\n",
       "      <th>_dewptm</th>\n",
       "      <th>_fog</th>\n",
       "      <th>_hail</th>\n",
       "      <th>_heatindexm</th>\n",
       "      <th>_hum</th>\n",
       "      <th>_precipm</th>\n",
       "      <th>_pressurem</th>\n",
       "      <th>_rain</th>\n",
       "      <th>_snow</th>\n",
       "      <th>_tempm</th>\n",
       "      <th>_thunder</th>\n",
       "      <th>_tornado</th>\n",
       "      <th>_vism</th>\n",
       "      <th>_wdird</th>\n",
       "      <th>_wdire</th>\n",
       "      <th>_wgustm</th>\n",
       "      <th>_windchillm</th>\n",
       "      <th>_wspdm</th>\n",
       "    </tr>\n",
       "  </thead>\n",
       "  <tbody>\n",
       "    <tr>\n",
       "      <th>0</th>\n",
       "      <td>19961101-11:00</td>\n",
       "      <td>Smoke</td>\n",
       "      <td>9.0</td>\n",
       "      <td>0</td>\n",
       "      <td>0</td>\n",
       "      <td>NaN</td>\n",
       "      <td>27.0</td>\n",
       "      <td>NaN</td>\n",
       "      <td>1010.0</td>\n",
       "      <td>0</td>\n",
       "      <td>0</td>\n",
       "      <td>30.0</td>\n",
       "      <td>0</td>\n",
       "      <td>0</td>\n",
       "      <td>5.0</td>\n",
       "      <td>280.0</td>\n",
       "      <td>West</td>\n",
       "      <td>NaN</td>\n",
       "      <td>NaN</td>\n",
       "      <td>7.4</td>\n",
       "    </tr>\n",
       "    <tr>\n",
       "      <th>1</th>\n",
       "      <td>19961101-12:00</td>\n",
       "      <td>Smoke</td>\n",
       "      <td>10.0</td>\n",
       "      <td>0</td>\n",
       "      <td>0</td>\n",
       "      <td>NaN</td>\n",
       "      <td>32.0</td>\n",
       "      <td>NaN</td>\n",
       "      <td>-9999.0</td>\n",
       "      <td>0</td>\n",
       "      <td>0</td>\n",
       "      <td>28.0</td>\n",
       "      <td>0</td>\n",
       "      <td>0</td>\n",
       "      <td>NaN</td>\n",
       "      <td>0.0</td>\n",
       "      <td>North</td>\n",
       "      <td>NaN</td>\n",
       "      <td>NaN</td>\n",
       "      <td>NaN</td>\n",
       "    </tr>\n",
       "  </tbody>\n",
       "</table>\n",
       "</div>"
      ],
      "text/plain": [
       "     datetime_utc  _conds   _dewptm   _fog   _hail   _heatindexm   _hum  \\\n",
       "0  19961101-11:00   Smoke       9.0      0       0           NaN   27.0   \n",
       "1  19961101-12:00   Smoke      10.0      0       0           NaN   32.0   \n",
       "\n",
       "    _precipm   _pressurem   _rain   _snow   _tempm   _thunder   _tornado  \\\n",
       "0        NaN       1010.0       0       0     30.0          0          0   \n",
       "1        NaN      -9999.0       0       0     28.0          0          0   \n",
       "\n",
       "    _vism   _wdird  _wdire   _wgustm   _windchillm   _wspdm  \n",
       "0     5.0    280.0    West       NaN           NaN      7.4  \n",
       "1     NaN      0.0   North       NaN           NaN      NaN  "
      ]
     },
     "execution_count": 5,
     "metadata": {},
     "output_type": "execute_result"
    }
   ],
   "source": [
    "df.head(2)"
   ]
  },
  {
   "cell_type": "code",
   "execution_count": null,
   "metadata": {},
   "outputs": [],
   "source": []
  },
  {
   "cell_type": "code",
   "execution_count": 6,
   "metadata": {},
   "outputs": [
    {
     "name": "stdout",
     "output_type": "stream",
     "text": [
      "<class 'pandas.core.frame.DataFrame'>\n",
      "RangeIndex: 100990 entries, 0 to 100989\n",
      "Data columns (total 20 columns):\n",
      "datetime_utc    100990 non-null object\n",
      " _conds         100918 non-null object\n",
      " _dewptm        100369 non-null float64\n",
      " _fog           100990 non-null int64\n",
      " _hail          100990 non-null int64\n",
      " _heatindexm    29155 non-null float64\n",
      " _hum           100233 non-null float64\n",
      " _precipm       0 non-null float64\n",
      " _pressurem     100758 non-null float64\n",
      " _rain          100990 non-null int64\n",
      " _snow          100990 non-null int64\n",
      " _tempm         100317 non-null float64\n",
      " _thunder       100990 non-null int64\n",
      " _tornado       100990 non-null int64\n",
      " _vism          96562 non-null float64\n",
      " _wdird         86235 non-null float64\n",
      " _wdire         86235 non-null object\n",
      " _wgustm        1072 non-null float64\n",
      " _windchillm    579 non-null float64\n",
      " _wspdm         98632 non-null float64\n",
      "dtypes: float64(11), int64(6), object(3)\n",
      "memory usage: 15.4+ MB\n"
     ]
    }
   ],
   "source": [
    "df.info()"
   ]
  },
  {
   "cell_type": "code",
   "execution_count": 7,
   "metadata": {},
   "outputs": [
    {
     "data": {
      "text/html": [
       "<div>\n",
       "<style scoped>\n",
       "    .dataframe tbody tr th:only-of-type {\n",
       "        vertical-align: middle;\n",
       "    }\n",
       "\n",
       "    .dataframe tbody tr th {\n",
       "        vertical-align: top;\n",
       "    }\n",
       "\n",
       "    .dataframe thead th {\n",
       "        text-align: right;\n",
       "    }\n",
       "</style>\n",
       "<table border=\"1\" class=\"dataframe\">\n",
       "  <thead>\n",
       "    <tr style=\"text-align: right;\">\n",
       "      <th></th>\n",
       "      <th>_dewptm</th>\n",
       "      <th>_fog</th>\n",
       "      <th>_hail</th>\n",
       "      <th>_heatindexm</th>\n",
       "      <th>_hum</th>\n",
       "      <th>_precipm</th>\n",
       "      <th>_pressurem</th>\n",
       "      <th>_rain</th>\n",
       "      <th>_snow</th>\n",
       "      <th>_tempm</th>\n",
       "      <th>_thunder</th>\n",
       "      <th>_tornado</th>\n",
       "      <th>_vism</th>\n",
       "      <th>_wdird</th>\n",
       "      <th>_wgustm</th>\n",
       "      <th>_windchillm</th>\n",
       "      <th>_wspdm</th>\n",
       "    </tr>\n",
       "  </thead>\n",
       "  <tbody>\n",
       "    <tr>\n",
       "      <th>count</th>\n",
       "      <td>100369.000000</td>\n",
       "      <td>100990.000000</td>\n",
       "      <td>100990.000000</td>\n",
       "      <td>29155.000000</td>\n",
       "      <td>100233.000000</td>\n",
       "      <td>0.0</td>\n",
       "      <td>1.007580e+05</td>\n",
       "      <td>100990.000000</td>\n",
       "      <td>100990.000000</td>\n",
       "      <td>100317.000000</td>\n",
       "      <td>100990.000000</td>\n",
       "      <td>100990.00000</td>\n",
       "      <td>96562.000000</td>\n",
       "      <td>86235.000000</td>\n",
       "      <td>1072.000000</td>\n",
       "      <td>579.000000</td>\n",
       "      <td>98632.000000</td>\n",
       "    </tr>\n",
       "    <tr>\n",
       "      <th>mean</th>\n",
       "      <td>15.741205</td>\n",
       "      <td>0.069690</td>\n",
       "      <td>0.000129</td>\n",
       "      <td>35.651710</td>\n",
       "      <td>57.909481</td>\n",
       "      <td>NaN</td>\n",
       "      <td>1.932331e+03</td>\n",
       "      <td>0.026260</td>\n",
       "      <td>0.000010</td>\n",
       "      <td>25.451269</td>\n",
       "      <td>0.009427</td>\n",
       "      <td>0.00002</td>\n",
       "      <td>2.402774</td>\n",
       "      <td>163.549974</td>\n",
       "      <td>37.671175</td>\n",
       "      <td>5.713817</td>\n",
       "      <td>7.678463</td>\n",
       "    </tr>\n",
       "    <tr>\n",
       "      <th>std</th>\n",
       "      <td>7.058587</td>\n",
       "      <td>0.254625</td>\n",
       "      <td>0.011345</td>\n",
       "      <td>5.015384</td>\n",
       "      <td>23.807771</td>\n",
       "      <td>NaN</td>\n",
       "      <td>3.183786e+05</td>\n",
       "      <td>0.159908</td>\n",
       "      <td>0.003147</td>\n",
       "      <td>8.482859</td>\n",
       "      <td>0.096633</td>\n",
       "      <td>0.00445</td>\n",
       "      <td>20.746028</td>\n",
       "      <td>120.002076</td>\n",
       "      <td>6.848666</td>\n",
       "      <td>1.203290</td>\n",
       "      <td>11.932157</td>\n",
       "    </tr>\n",
       "    <tr>\n",
       "      <th>min</th>\n",
       "      <td>-24.000000</td>\n",
       "      <td>0.000000</td>\n",
       "      <td>0.000000</td>\n",
       "      <td>26.800000</td>\n",
       "      <td>4.000000</td>\n",
       "      <td>NaN</td>\n",
       "      <td>-9.999000e+03</td>\n",
       "      <td>0.000000</td>\n",
       "      <td>0.000000</td>\n",
       "      <td>1.000000</td>\n",
       "      <td>0.000000</td>\n",
       "      <td>0.00000</td>\n",
       "      <td>0.000000</td>\n",
       "      <td>0.000000</td>\n",
       "      <td>25.900000</td>\n",
       "      <td>2.100000</td>\n",
       "      <td>0.000000</td>\n",
       "    </tr>\n",
       "    <tr>\n",
       "      <th>25%</th>\n",
       "      <td>10.000000</td>\n",
       "      <td>0.000000</td>\n",
       "      <td>0.000000</td>\n",
       "      <td>31.700000</td>\n",
       "      <td>39.000000</td>\n",
       "      <td>NaN</td>\n",
       "      <td>1.002000e+03</td>\n",
       "      <td>0.000000</td>\n",
       "      <td>0.000000</td>\n",
       "      <td>19.000000</td>\n",
       "      <td>0.000000</td>\n",
       "      <td>0.00000</td>\n",
       "      <td>1.500000</td>\n",
       "      <td>50.000000</td>\n",
       "      <td>33.300000</td>\n",
       "      <td>4.900000</td>\n",
       "      <td>0.000000</td>\n",
       "    </tr>\n",
       "    <tr>\n",
       "      <th>50%</th>\n",
       "      <td>15.000000</td>\n",
       "      <td>0.000000</td>\n",
       "      <td>0.000000</td>\n",
       "      <td>35.100000</td>\n",
       "      <td>59.000000</td>\n",
       "      <td>NaN</td>\n",
       "      <td>1.008000e+03</td>\n",
       "      <td>0.000000</td>\n",
       "      <td>0.000000</td>\n",
       "      <td>27.000000</td>\n",
       "      <td>0.000000</td>\n",
       "      <td>0.00000</td>\n",
       "      <td>2.000000</td>\n",
       "      <td>160.000000</td>\n",
       "      <td>37.000000</td>\n",
       "      <td>6.100000</td>\n",
       "      <td>7.400000</td>\n",
       "    </tr>\n",
       "    <tr>\n",
       "      <th>75%</th>\n",
       "      <td>22.000000</td>\n",
       "      <td>0.000000</td>\n",
       "      <td>0.000000</td>\n",
       "      <td>39.200000</td>\n",
       "      <td>78.000000</td>\n",
       "      <td>NaN</td>\n",
       "      <td>1.014000e+03</td>\n",
       "      <td>0.000000</td>\n",
       "      <td>0.000000</td>\n",
       "      <td>32.000000</td>\n",
       "      <td>0.000000</td>\n",
       "      <td>0.00000</td>\n",
       "      <td>3.000000</td>\n",
       "      <td>270.000000</td>\n",
       "      <td>40.700000</td>\n",
       "      <td>6.800000</td>\n",
       "      <td>11.100000</td>\n",
       "    </tr>\n",
       "    <tr>\n",
       "      <th>max</th>\n",
       "      <td>75.000000</td>\n",
       "      <td>1.000000</td>\n",
       "      <td>1.000000</td>\n",
       "      <td>73.600000</td>\n",
       "      <td>243.000000</td>\n",
       "      <td>NaN</td>\n",
       "      <td>1.010614e+08</td>\n",
       "      <td>1.000000</td>\n",
       "      <td>1.000000</td>\n",
       "      <td>90.000000</td>\n",
       "      <td>1.000000</td>\n",
       "      <td>1.00000</td>\n",
       "      <td>6436.000000</td>\n",
       "      <td>960.000000</td>\n",
       "      <td>92.600000</td>\n",
       "      <td>7.300000</td>\n",
       "      <td>1514.900000</td>\n",
       "    </tr>\n",
       "  </tbody>\n",
       "</table>\n",
       "</div>"
      ],
      "text/plain": [
       "             _dewptm           _fog          _hail   _heatindexm  \\\n",
       "count  100369.000000  100990.000000  100990.000000  29155.000000   \n",
       "mean       15.741205       0.069690       0.000129     35.651710   \n",
       "std         7.058587       0.254625       0.011345      5.015384   \n",
       "min       -24.000000       0.000000       0.000000     26.800000   \n",
       "25%        10.000000       0.000000       0.000000     31.700000   \n",
       "50%        15.000000       0.000000       0.000000     35.100000   \n",
       "75%        22.000000       0.000000       0.000000     39.200000   \n",
       "max        75.000000       1.000000       1.000000     73.600000   \n",
       "\n",
       "                _hum   _precipm    _pressurem          _rain          _snow  \\\n",
       "count  100233.000000        0.0  1.007580e+05  100990.000000  100990.000000   \n",
       "mean       57.909481        NaN  1.932331e+03       0.026260       0.000010   \n",
       "std        23.807771        NaN  3.183786e+05       0.159908       0.003147   \n",
       "min         4.000000        NaN -9.999000e+03       0.000000       0.000000   \n",
       "25%        39.000000        NaN  1.002000e+03       0.000000       0.000000   \n",
       "50%        59.000000        NaN  1.008000e+03       0.000000       0.000000   \n",
       "75%        78.000000        NaN  1.014000e+03       0.000000       0.000000   \n",
       "max       243.000000        NaN  1.010614e+08       1.000000       1.000000   \n",
       "\n",
       "              _tempm       _thunder      _tornado         _vism        _wdird  \\\n",
       "count  100317.000000  100990.000000  100990.00000  96562.000000  86235.000000   \n",
       "mean       25.451269       0.009427       0.00002      2.402774    163.549974   \n",
       "std         8.482859       0.096633       0.00445     20.746028    120.002076   \n",
       "min         1.000000       0.000000       0.00000      0.000000      0.000000   \n",
       "25%        19.000000       0.000000       0.00000      1.500000     50.000000   \n",
       "50%        27.000000       0.000000       0.00000      2.000000    160.000000   \n",
       "75%        32.000000       0.000000       0.00000      3.000000    270.000000   \n",
       "max        90.000000       1.000000       1.00000   6436.000000    960.000000   \n",
       "\n",
       "           _wgustm   _windchillm        _wspdm  \n",
       "count  1072.000000    579.000000  98632.000000  \n",
       "mean     37.671175      5.713817      7.678463  \n",
       "std       6.848666      1.203290     11.932157  \n",
       "min      25.900000      2.100000      0.000000  \n",
       "25%      33.300000      4.900000      0.000000  \n",
       "50%      37.000000      6.100000      7.400000  \n",
       "75%      40.700000      6.800000     11.100000  \n",
       "max      92.600000      7.300000   1514.900000  "
      ]
     },
     "execution_count": 7,
     "metadata": {},
     "output_type": "execute_result"
    }
   ],
   "source": [
    "df.describe()"
   ]
  },
  {
   "cell_type": "code",
   "execution_count": 8,
   "metadata": {},
   "outputs": [
    {
     "data": {
      "text/plain": [
       "Index(['datetime_utc', ' _conds', ' _dewptm', ' _fog', ' _hail',\n",
       "       ' _heatindexm', ' _hum', ' _precipm', ' _pressurem', ' _rain', ' _snow',\n",
       "       ' _tempm', ' _thunder', ' _tornado', ' _vism', ' _wdird', ' _wdire',\n",
       "       ' _wgustm', ' _windchillm', ' _wspdm'],\n",
       "      dtype='object')"
      ]
     },
     "execution_count": 8,
     "metadata": {},
     "output_type": "execute_result"
    }
   ],
   "source": [
    "df.columns"
   ]
  },
  {
   "cell_type": "code",
   "execution_count": 9,
   "metadata": {},
   "outputs": [
    {
     "data": {
      "text/plain": [
       "datetime_utc         0\n",
       " _conds             72\n",
       " _dewptm           621\n",
       " _fog                0\n",
       " _hail               0\n",
       " _heatindexm     71835\n",
       " _hum              757\n",
       " _precipm       100990\n",
       " _pressurem        232\n",
       " _rain               0\n",
       " _snow               0\n",
       " _tempm            673\n",
       " _thunder            0\n",
       " _tornado            0\n",
       " _vism            4428\n",
       " _wdird          14755\n",
       " _wdire          14755\n",
       " _wgustm         99918\n",
       " _windchillm    100411\n",
       " _wspdm           2358\n",
       "dtype: int64"
      ]
     },
     "execution_count": 9,
     "metadata": {},
     "output_type": "execute_result"
    }
   ],
   "source": [
    "df.isnull().sum() "
   ]
  },
  {
   "cell_type": "code",
   "execution_count": null,
   "metadata": {},
   "outputs": [],
   "source": []
  },
  {
   "cell_type": "code",
   "execution_count": 10,
   "metadata": {},
   "outputs": [],
   "source": [
    "df1=df.drop(columns=[' _heatindexm',' _precipm',' _wgustm', ' _windchillm'],axis=1)"
   ]
  },
  {
   "cell_type": "code",
   "execution_count": 11,
   "metadata": {},
   "outputs": [
    {
     "name": "stdout",
     "output_type": "stream",
     "text": [
      "<class 'pandas.core.frame.DataFrame'>\n",
      "RangeIndex: 100990 entries, 0 to 100989\n",
      "Data columns (total 16 columns):\n",
      "datetime_utc    100990 non-null object\n",
      " _conds         100918 non-null object\n",
      " _dewptm        100369 non-null float64\n",
      " _fog           100990 non-null int64\n",
      " _hail          100990 non-null int64\n",
      " _hum           100233 non-null float64\n",
      " _pressurem     100758 non-null float64\n",
      " _rain          100990 non-null int64\n",
      " _snow          100990 non-null int64\n",
      " _tempm         100317 non-null float64\n",
      " _thunder       100990 non-null int64\n",
      " _tornado       100990 non-null int64\n",
      " _vism          96562 non-null float64\n",
      " _wdird         86235 non-null float64\n",
      " _wdire         86235 non-null object\n",
      " _wspdm         98632 non-null float64\n",
      "dtypes: float64(7), int64(6), object(3)\n",
      "memory usage: 12.3+ MB\n"
     ]
    },
    {
     "data": {
      "text/plain": [
       "datetime_utc        0\n",
       " _conds            72\n",
       " _dewptm          621\n",
       " _fog               0\n",
       " _hail              0\n",
       " _hum             757\n",
       " _pressurem       232\n",
       " _rain              0\n",
       " _snow              0\n",
       " _tempm           673\n",
       " _thunder           0\n",
       " _tornado           0\n",
       " _vism           4428\n",
       " _wdird         14755\n",
       " _wdire         14755\n",
       " _wspdm          2358\n",
       "dtype: int64"
      ]
     },
     "execution_count": 11,
     "metadata": {},
     "output_type": "execute_result"
    }
   ],
   "source": [
    "df1.info()\n",
    "df1.isnull().sum() "
   ]
  },
  {
   "cell_type": "code",
   "execution_count": 12,
   "metadata": {},
   "outputs": [],
   "source": [
    "df2=df1.dropna()"
   ]
  },
  {
   "cell_type": "code",
   "execution_count": 13,
   "metadata": {},
   "outputs": [
    {
     "name": "stdout",
     "output_type": "stream",
     "text": [
      "<class 'pandas.core.frame.DataFrame'>\n",
      "Int64Index: 80891 entries, 0 to 100989\n",
      "Data columns (total 16 columns):\n",
      "datetime_utc    80891 non-null object\n",
      " _conds         80891 non-null object\n",
      " _dewptm        80891 non-null float64\n",
      " _fog           80891 non-null int64\n",
      " _hail          80891 non-null int64\n",
      " _hum           80891 non-null float64\n",
      " _pressurem     80891 non-null float64\n",
      " _rain          80891 non-null int64\n",
      " _snow          80891 non-null int64\n",
      " _tempm         80891 non-null float64\n",
      " _thunder       80891 non-null int64\n",
      " _tornado       80891 non-null int64\n",
      " _vism          80891 non-null float64\n",
      " _wdird         80891 non-null float64\n",
      " _wdire         80891 non-null object\n",
      " _wspdm         80891 non-null float64\n",
      "dtypes: float64(7), int64(6), object(3)\n",
      "memory usage: 10.5+ MB\n"
     ]
    }
   ],
   "source": [
    "df2.info()"
   ]
  },
  {
   "cell_type": "code",
   "execution_count": 14,
   "metadata": {},
   "outputs": [
    {
     "data": {
      "text/html": [
       "<div>\n",
       "<style scoped>\n",
       "    .dataframe tbody tr th:only-of-type {\n",
       "        vertical-align: middle;\n",
       "    }\n",
       "\n",
       "    .dataframe tbody tr th {\n",
       "        vertical-align: top;\n",
       "    }\n",
       "\n",
       "    .dataframe thead th {\n",
       "        text-align: right;\n",
       "    }\n",
       "</style>\n",
       "<table border=\"1\" class=\"dataframe\">\n",
       "  <thead>\n",
       "    <tr style=\"text-align: right;\">\n",
       "      <th></th>\n",
       "      <th>datetime_utc</th>\n",
       "      <th>_conds</th>\n",
       "      <th>_dewptm</th>\n",
       "      <th>_fog</th>\n",
       "      <th>_hail</th>\n",
       "      <th>_hum</th>\n",
       "      <th>_pressurem</th>\n",
       "      <th>_rain</th>\n",
       "      <th>_snow</th>\n",
       "      <th>_tempm</th>\n",
       "      <th>_thunder</th>\n",
       "      <th>_tornado</th>\n",
       "      <th>_vism</th>\n",
       "      <th>_wdird</th>\n",
       "      <th>_wdire</th>\n",
       "      <th>_wspdm</th>\n",
       "    </tr>\n",
       "  </thead>\n",
       "  <tbody>\n",
       "    <tr>\n",
       "      <th>0</th>\n",
       "      <td>19961101-11:00</td>\n",
       "      <td>Smoke</td>\n",
       "      <td>9.0</td>\n",
       "      <td>0</td>\n",
       "      <td>0</td>\n",
       "      <td>27.0</td>\n",
       "      <td>1010.0</td>\n",
       "      <td>0</td>\n",
       "      <td>0</td>\n",
       "      <td>30.0</td>\n",
       "      <td>0</td>\n",
       "      <td>0</td>\n",
       "      <td>5.0</td>\n",
       "      <td>280.0</td>\n",
       "      <td>West</td>\n",
       "      <td>7.4</td>\n",
       "    </tr>\n",
       "    <tr>\n",
       "      <th>4</th>\n",
       "      <td>19961101-16:00</td>\n",
       "      <td>Smoke</td>\n",
       "      <td>11.0</td>\n",
       "      <td>0</td>\n",
       "      <td>0</td>\n",
       "      <td>47.0</td>\n",
       "      <td>1011.0</td>\n",
       "      <td>0</td>\n",
       "      <td>0</td>\n",
       "      <td>23.0</td>\n",
       "      <td>0</td>\n",
       "      <td>0</td>\n",
       "      <td>1.2</td>\n",
       "      <td>0.0</td>\n",
       "      <td>North</td>\n",
       "      <td>0.0</td>\n",
       "    </tr>\n",
       "  </tbody>\n",
       "</table>\n",
       "</div>"
      ],
      "text/plain": [
       "     datetime_utc  _conds   _dewptm   _fog   _hail   _hum   _pressurem  \\\n",
       "0  19961101-11:00   Smoke       9.0      0       0   27.0       1010.0   \n",
       "4  19961101-16:00   Smoke      11.0      0       0   47.0       1011.0   \n",
       "\n",
       "    _rain   _snow   _tempm   _thunder   _tornado   _vism   _wdird  _wdire  \\\n",
       "0       0       0     30.0          0          0     5.0    280.0    West   \n",
       "4       0       0     23.0          0          0     1.2      0.0   North   \n",
       "\n",
       "    _wspdm  \n",
       "0      7.4  \n",
       "4      0.0  "
      ]
     },
     "execution_count": 14,
     "metadata": {},
     "output_type": "execute_result"
    }
   ],
   "source": [
    "df2.head(2)"
   ]
  },
  {
   "cell_type": "code",
   "execution_count": 15,
   "metadata": {},
   "outputs": [
    {
     "data": {
      "text/plain": [
       "<matplotlib.axes._subplots.AxesSubplot at 0x17b1ff0b7b8>"
      ]
     },
     "execution_count": 15,
     "metadata": {},
     "output_type": "execute_result"
    },
    {
     "data": {
      "image/png": "[encoded data removed]",
      "text/plain": [
       "<matplotlib.figure.Figure at 0x17b1fefd908>"
      ]
     },
     "metadata": {},
     "output_type": "display_data"
    }
   ],
   "source": [
    "sns.heatmap(df2.isnull(),yticklabels=False,cbar=False,cmap='viridis')"
   ]
  },
  {
   "cell_type": "code",
   "execution_count": 16,
   "metadata": {},
   "outputs": [
    {
     "data": {
      "text/plain": [
       "datetime_utc    0\n",
       " _conds         0\n",
       " _dewptm        0\n",
       " _fog           0\n",
       " _hail          0\n",
       " _hum           0\n",
       " _pressurem     0\n",
       " _rain          0\n",
       " _snow          0\n",
       " _tempm         0\n",
       " _thunder       0\n",
       " _tornado       0\n",
       " _vism          0\n",
       " _wdird         0\n",
       " _wdire         0\n",
       " _wspdm         0\n",
       "dtype: int64"
      ]
     },
     "execution_count": 16,
     "metadata": {},
     "output_type": "execute_result"
    }
   ],
   "source": [
    "df2.isnull().sum() "
   ]
  },
  {
   "cell_type": "code",
   "execution_count": null,
   "metadata": {},
   "outputs": [],
   "source": [
    "sns.pairplot(df2,kind='reg')"
   ]
  },
  {
   "cell_type": "code",
   "execution_count": null,
   "metadata": {},
   "outputs": [],
   "source": []
  },
  {
   "cell_type": "code",
   "execution_count": 18,
   "metadata": {},
   "outputs": [
    {
     "data": {
      "text/plain": [
       "<matplotlib.axes._subplots.AxesSubplot at 0x17b1f3e5b38>"
      ]
     },
     "execution_count": 18,
     "metadata": {},
     "output_type": "execute_result"
    },
    {
     "data": {
      "image/png": "[encoded data removed]",
      "text/plain": [
       "<matplotlib.figure.Figure at 0x17b1f3dc748>"
      ]
     },
     "metadata": {},
     "output_type": "display_data"
    }
   ],
   "source": [
    "sns.distplot(df2[' _tempm'])"
   ]
  },
  {
   "cell_type": "code",
   "execution_count": 19,
   "metadata": {},
   "outputs": [
    {
     "data": {
      "text/plain": [
       "<matplotlib.axes._subplots.AxesSubplot at 0x17b1f3f1e80>"
      ]
     },
     "execution_count": 19,
     "metadata": {},
     "output_type": "execute_result"
    },
    {
     "data": {
      "image/png": "[encoded data removed]",
      "text/plain": [
       "<matplotlib.figure.Figure at 0x17b21b8db38>"
      ]
     },
     "metadata": {},
     "output_type": "display_data"
    }
   ],
   "source": [
    "sns.heatmap(df2.corr(),cmap=\"YlGnBu\")"
   ]
  },
  {
   "cell_type": "code",
   "execution_count": null,
   "metadata": {},
   "outputs": [],
   "source": []
  },
  {
   "cell_type": "code",
   "execution_count": 23,
   "metadata": {},
   "outputs": [
    {
     "data": {
      "text/plain": [
       "Index(['datetime_utc', ' _conds', ' _dewptm', ' _fog', ' _hail', ' _hum',\n",
       "       ' _pressurem', ' _rain', ' _snow', ' _tempm', ' _thunder', ' _tornado',\n",
       "       ' _vism', ' _wdird', ' _wdire', ' _wspdm'],\n",
       "      dtype='object')"
      ]
     },
     "execution_count": 23,
     "metadata": {},
     "output_type": "execute_result"
    }
   ],
   "source": [
    "df2.columns"
   ]
  },
  {
   "cell_type": "code",
   "execution_count": 26,
   "metadata": {},
   "outputs": [],
   "source": [
    "X=df2[[' _dewptm',' _fog',' _hail',' _hum',' _pressurem',' _rain',' _snow',' _thunder',' _tornado',' _vism',' _wdird']]"
   ]
  },
  {
   "cell_type": "code",
   "execution_count": 27,
   "metadata": {},
   "outputs": [],
   "source": [
    "Y=df2[' _tempm']"
   ]
  },
  {
   "cell_type": "code",
   "execution_count": 28,
   "metadata": {},
   "outputs": [],
   "source": [
    "from sklearn.model_selection import train_test_split"
   ]
  },
  {
   "cell_type": "code",
   "execution_count": 30,
   "metadata": {},
   "outputs": [],
   "source": [
    "X_train, X_test, y_train, y_test = train_test_split(X, Y, test_size=0.1, random_state=101)"
   ]
  },
  {
   "cell_type": "code",
   "execution_count": 31,
   "metadata": {},
   "outputs": [],
   "source": [
    "from sklearn.linear_model import LinearRegression"
   ]
  },
  {
   "cell_type": "code",
   "execution_count": 32,
   "metadata": {},
   "outputs": [],
   "source": [
    "lm = LinearRegression()"
   ]
  },
  {
   "cell_type": "code",
   "execution_count": 33,
   "metadata": {},
   "outputs": [
    {
     "data": {
      "text/plain": [
       "LinearRegression(copy_X=True, fit_intercept=True, n_jobs=1, normalize=False)"
      ]
     },
     "execution_count": 33,
     "metadata": {},
     "output_type": "execute_result"
    }
   ],
   "source": [
    "lm.fit(X_train,y_train)"
   ]
  },
  {
   "cell_type": "code",
   "execution_count": 34,
   "metadata": {},
   "outputs": [
    {
     "name": "stdout",
     "output_type": "stream",
     "text": [
      "Coefficients: \n",
      " [ 9.81044325e-01  2.01136153e+00  5.75566448e-01 -3.19428831e-01\n",
      "  7.42227650e-08  1.60411691e+00  2.12717365e+00 -1.98233050e-01\n",
      "  1.23391513e+00  1.07238808e-03 -4.61320216e-04]\n"
     ]
    }
   ],
   "source": [
    "# The coefficients\n",
    "print('Coefficients: \\n', lm.coef_)"
   ]
  },
  {
   "cell_type": "code",
   "execution_count": 35,
   "metadata": {},
   "outputs": [],
   "source": [
    "predictions = lm.predict( X_test)"
   ]
  },
  {
   "cell_type": "code",
   "execution_count": 36,
   "metadata": {},
   "outputs": [
    {
     "data": {
      "text/plain": [
       "Text(0,0.5,'Predicted Y')"
      ]
     },
     "execution_count": 36,
     "metadata": {},
     "output_type": "execute_result"
    },
    {
     "data": {
      "image/png": "[encoded data removed]",
      "text/plain": [
       "<matplotlib.figure.Figure at 0x17b23f4dcc0>"
      ]
     },
     "metadata": {},
     "output_type": "display_data"
    }
   ],
   "source": [
    "plt.scatter(y_test,predictions)\n",
    "plt.xlabel('Y Test')\n",
    "plt.ylabel('Predicted Y')"
   ]
  },
  {
   "cell_type": "code",
   "execution_count": 69,
   "metadata": {},
   "outputs": [
    {
     "name": "stdout",
     "output_type": "stream",
     "text": [
      "MAE: 1.6911281044532909\n",
      "MSE: 6.062663954245494\n",
      "RMSE: 2.462247744286812\n",
      "MSE: 1.1878041823867225\n"
     ]
    }
   ],
   "source": [
    "# calculate these metrics by hand!\n",
    "from sklearn import metrics\n",
    "\n",
    "print('MAE:', metrics.mean_absolute_error(y_test, predictions))\n",
    "print('MSE:', metrics.mean_squared_error(y_test, predictions))\n",
    "print('RMSE:', np.sqrt(metrics.mean_squared_error(y_test, predictions)))\n",
    "print('MSE:', metrics.median_absolute_error(y_test, predictions))\n"
   ]
  },
  {
   "cell_type": "code",
   "execution_count": 38,
   "metadata": {},
   "outputs": [
    {
     "data": {
      "image/png": "[encoded data removed]",
      "text/plain": [
       "<matplotlib.figure.Figure at 0x17b23f4de80>"
      ]
     },
     "metadata": {},
     "output_type": "display_data"
    }
   ],
   "source": [
    "sns.distplot((y_test-predictions),bins=50);"
   ]
  },
  {
   "cell_type": "code",
   "execution_count": 39,
   "metadata": {},
   "outputs": [
    {
     "data": {
      "text/html": [
       "<div>\n",
       "<style scoped>\n",
       "    .dataframe tbody tr th:only-of-type {\n",
       "        vertical-align: middle;\n",
       "    }\n",
       "\n",
       "    .dataframe tbody tr th {\n",
       "        vertical-align: top;\n",
       "    }\n",
       "\n",
       "    .dataframe thead th {\n",
       "        text-align: right;\n",
       "    }\n",
       "</style>\n",
       "<table border=\"1\" class=\"dataframe\">\n",
       "  <thead>\n",
       "    <tr style=\"text-align: right;\">\n",
       "      <th></th>\n",
       "      <th>Coeffecient</th>\n",
       "    </tr>\n",
       "  </thead>\n",
       "  <tbody>\n",
       "    <tr>\n",
       "      <th>_dewptm</th>\n",
       "      <td>9.810443e-01</td>\n",
       "    </tr>\n",
       "    <tr>\n",
       "      <th>_fog</th>\n",
       "      <td>2.011362e+00</td>\n",
       "    </tr>\n",
       "    <tr>\n",
       "      <th>_hail</th>\n",
       "      <td>5.755664e-01</td>\n",
       "    </tr>\n",
       "    <tr>\n",
       "      <th>_hum</th>\n",
       "      <td>-3.194288e-01</td>\n",
       "    </tr>\n",
       "    <tr>\n",
       "      <th>_pressurem</th>\n",
       "      <td>7.422277e-08</td>\n",
       "    </tr>\n",
       "    <tr>\n",
       "      <th>_rain</th>\n",
       "      <td>1.604117e+00</td>\n",
       "    </tr>\n",
       "    <tr>\n",
       "      <th>_snow</th>\n",
       "      <td>2.127174e+00</td>\n",
       "    </tr>\n",
       "    <tr>\n",
       "      <th>_thunder</th>\n",
       "      <td>-1.982331e-01</td>\n",
       "    </tr>\n",
       "    <tr>\n",
       "      <th>_tornado</th>\n",
       "      <td>1.233915e+00</td>\n",
       "    </tr>\n",
       "    <tr>\n",
       "      <th>_vism</th>\n",
       "      <td>1.072388e-03</td>\n",
       "    </tr>\n",
       "    <tr>\n",
       "      <th>_wdird</th>\n",
       "      <td>-4.613202e-04</td>\n",
       "    </tr>\n",
       "  </tbody>\n",
       "</table>\n",
       "</div>"
      ],
      "text/plain": [
       "              Coeffecient\n",
       " _dewptm     9.810443e-01\n",
       " _fog        2.011362e+00\n",
       " _hail       5.755664e-01\n",
       " _hum       -3.194288e-01\n",
       " _pressurem  7.422277e-08\n",
       " _rain       1.604117e+00\n",
       " _snow       2.127174e+00\n",
       " _thunder   -1.982331e-01\n",
       " _tornado    1.233915e+00\n",
       " _vism       1.072388e-03\n",
       " _wdird     -4.613202e-04"
      ]
     },
     "execution_count": 39,
     "metadata": {},
     "output_type": "execute_result"
    }
   ],
   "source": [
    "coeffecients = pd.DataFrame(lm.coef_,X.columns)\n",
    "coeffecients.columns = ['Coeffecient']\n",
    "coeffecients"
   ]
  },
  {
   "cell_type": "code",
   "execution_count": 68,
   "metadata": {},
   "outputs": [
    {
     "name": "stdout",
     "output_type": "stream",
     "text": [
      "The Explained Variance: 0.91\n"
     ]
    }
   ],
   "source": [
    "print(\"The Explained Variance: %.2f\" % lm.score(X_test, y_test)) "
   ]
  },
  {
   "cell_type": "code",
   "execution_count": null,
   "metadata": {},
   "outputs": [],
   "source": []
  },
  {
   "cell_type": "code",
   "execution_count": 66,
   "metadata": {},
   "outputs": [
    {
     "data": {
      "text/plain": [
       "array([27.25479714, 32.2833582 , 24.73136694, ..., 32.89001258,\n",
       "       16.10271149, 27.78192841])"
      ]
     },
     "execution_count": 66,
     "metadata": {},
     "output_type": "execute_result"
    }
   ],
   "source": [
    "predictions"
   ]
  },
  {
   "cell_type": "code",
   "execution_count": null,
   "metadata": {},
   "outputs": [],
   "source": []
  },
  {
   "cell_type": "code",
   "execution_count": null,
   "metadata": {},
   "outputs": [],
   "source": []
  },
  {
   "cell_type": "code",
   "execution_count": null,
   "metadata": {},
   "outputs": [],
   "source": []
  }
 ],
 "metadata": {
  "kernelspec": {
   "display_name": "Python 3",
   "language": "python",
   "name": "python3"
  },
  "language_info": {
   "codemirror_mode": {
    "name": "ipython",
    "version": 3
   },
   "file_extension": ".py",
   "mimetype": "text/x-python",
   "name": "python",
   "nbconvert_exporter": "python",
   "pygments_lexer": "ipython3",
   "version": "3.6.4"
  }
 },
 "nbformat": 4,
 "nbformat_minor": 2
}
